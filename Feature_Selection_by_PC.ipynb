{
  "nbformat": 4,
  "nbformat_minor": 0,
  "metadata": {
    "colab": {
      "provenance": [],
      "mount_file_id": "1cE4wL5NtpYOKCDtHeSPmY2kBqJfak6Va",
      "authorship_tag": "ABX9TyPAhQUG7OLEPTYDoy4kDJFL",
      "include_colab_link": true
    },
    "kernelspec": {
      "name": "python3",
      "display_name": "Python 3"
    },
    "language_info": {
      "name": "python"
    }
  },
  "cells": [
    {
      "cell_type": "markdown",
      "metadata": {
        "id": "view-in-github",
        "colab_type": "text"
      },
      "source": [
        "<a href=\"https://colab.research.google.com/github/Farwa-01/Solar_Energy_Forecasting/blob/main/Feature_Selection_by_PC.ipynb\" target=\"_parent\"><img src=\"https://colab.research.google.com/assets/colab-badge.svg\" alt=\"Open In Colab\"/></a>"
      ]
    },
    {
      "cell_type": "code",
      "execution_count": null,
      "metadata": {
        "id": "-doPChAoKei2",
        "colab": {
          "base_uri": "https://localhost:8080/"
        },
        "outputId": "0871e62e-4022-4673-fba5-fbdb77890981"
      },
      "outputs": [
        {
          "output_type": "stream",
          "name": "stdout",
          "text": [
            "Drive already mounted at /content/drive; to attempt to forcibly remount, call drive.mount(\"/content/drive\", force_remount=True).\n",
            "Correlation of all 6 parameters with Active Power:\n",
            "Active_Power                    1.000000\n",
            "Global_Horizontal_Radiation     0.699972\n",
            "Weather_Temperature_Celsius     0.331952\n",
            "Weather_Relative_Humidity      -0.322321\n",
            "Diffuse_Horizontal_Radiation    0.391167\n",
            "Wind_Speed                      0.148322\n",
            "Performance_Ratio               0.102860\n",
            "Name: Active_Power, dtype: float64\n",
            "\n",
            "Top 4 features correlated with Active Power:\n",
            "Index(['Global_Horizontal_Radiation', 'Diffuse_Horizontal_Radiation',\n",
            "       'Weather_Temperature_Celsius', 'Wind_Speed'],\n",
            "      dtype='object')\n",
            "\n",
            "Correlation values:\n",
            "Global_Horizontal_Radiation     0.699972\n",
            "Diffuse_Horizontal_Radiation    0.391167\n",
            "Weather_Temperature_Celsius     0.331952\n",
            "Wind_Speed                      0.148322\n",
            "Name: Active_Power, dtype: float64\n"
          ]
        }
      ],
      "source": [
        "# Import necessary libraries\n",
        "import pandas as pd\n",
        "import numpy as np\n",
        "from google.colab import drive\n",
        "from sklearn.preprocessing import StandardScaler\n",
        "\n",
        "# Mount Google Drive to access files\n",
        "drive.mount('/content/drive')\n",
        "\n",
        "# Load the dataset from Google Drive\n",
        "# Replace 'your-folder-path' with the actual folder path in your Google Drive\n",
        "file_path = '/content/drive/MyDrive/SEG Forecast/60-Site_DKA-M18_A-Phase.csv'\n",
        "df = pd.read_csv(file_path)\n",
        "\n",
        "# Select only the necessary columns\n",
        "df = df[['Active_Power', 'Global_Horizontal_Radiation', 'Weather_Temperature_Celsius',\n",
        "         'Weather_Relative_Humidity', 'Diffuse_Horizontal_Radiation', 'Wind_Speed',\n",
        "         'Performance_Ratio']]\n",
        "\n",
        "# Convert the relevant columns to numeric (if not already)\n",
        "numeric_columns = ['Active_Power', 'Global_Horizontal_Radiation', 'Weather_Temperature_Celsius',\n",
        "                   'Weather_Relative_Humidity', 'Diffuse_Horizontal_Radiation', 'Wind_Speed',\n",
        "                   'Performance_Ratio']\n",
        "\n",
        "df[numeric_columns] = df[numeric_columns].apply(pd.to_numeric, errors='coerce')\n",
        "\n",
        "# Handle missing values by filling them with the mean of the column\n",
        "df.fillna(df.mean(), inplace=True)\n",
        "\n",
        "# Calculate correlation matrix\n",
        "correlation_matrix = df.corr()\n",
        "\n",
        "# Extract correlations with Active Power\n",
        "active_power_correlation = correlation_matrix['Active_Power']\n",
        "\n",
        "print(\"Correlation of all 6 parameters with Active Power:\")\n",
        "print(active_power_correlation)\n",
        "\n",
        "# Select the 4 highest correlated features (excluding the target variable itself)\n",
        "top_4_features = active_power_correlation.drop(labels=['Active_Power']).sort_values(ascending=False).index[:4]\n",
        "\n",
        "print(\"\\nTop 4 features correlated with Active Power:\")\n",
        "print(top_4_features)\n",
        "print(\"\\nCorrelation values:\")\n",
        "print(active_power_correlation[top_4_features])\n",
        "\n",
        "\n"
      ]
    },
    {
      "cell_type": "code",
      "source": [
        "# Import necessary libraries for Linear Regression\n",
        "from sklearn.linear_model import LinearRegression\n",
        "from sklearn.metrics import mean_squared_error, r2_score\n",
        "\n",
        "# Select the top 4 features based on correlation values\n",
        "top_4_features = ['Global_Horizontal_Radiation', 'Diffuse_Horizontal_Radiation',\n",
        "                  'Weather_Temperature_Celsius', 'Wind_Speed']\n",
        "\n",
        "# Define features (X) and target (y) for Linear Regression\n",
        "X = df[top_4_features]\n",
        "y = df['Active_Power']\n",
        "\n",
        "# Initialize Linear Regression model\n",
        "model = LinearRegression()\n",
        "\n",
        "# Fit the model\n",
        "model.fit(X, y)\n",
        "\n",
        "# Predict the target variable\n",
        "y_pred = model.predict(X)\n",
        "\n",
        "# Calculate and display model performance\n",
        "mse = mean_squared_error(y, y_pred)\n",
        "r2 = r2_score(y, y_pred)\n",
        "\n",
        "print(f\"Mean Squared Error: {mse}\")\n",
        "print(f\"R-squared: {r2}\")\n",
        "\n",
        "# Display the coefficients for each feature\n",
        "coefficients = pd.DataFrame({'Feature': X.columns, 'Coefficient': model.coef_})\n",
        "print(\"\\nCoefficients for each feature:\")\n",
        "print(coefficients)\n"
      ],
      "metadata": {
        "colab": {
          "base_uri": "https://localhost:8080/"
        },
        "id": "WRWqTAISoJ4n",
        "outputId": "9a3ae365-9a2a-49c9-922f-1af15cb3f047"
      },
      "execution_count": null,
      "outputs": [
        {
          "output_type": "stream",
          "name": "stdout",
          "text": [
            "Mean Squared Error: 1.1303762567286986\n",
            "R-squared: 0.49103060597946824\n",
            "\n",
            "Coefficients for each feature:\n",
            "                        Feature  Coefficient\n",
            "0   Global_Horizontal_Radiation     0.002933\n",
            "1  Diffuse_Horizontal_Radiation    -0.000286\n",
            "2   Weather_Temperature_Celsius    -0.001837\n",
            "3                    Wind_Speed     0.022169\n"
          ]
        }
      ]
    },
    {
      "cell_type": "code",
      "source": [
        "# Import necessary libraries\n",
        "import pandas as pd\n",
        "import numpy as np\n",
        "from google.colab import drive\n",
        "from sklearn.linear_model import LinearRegression, Ridge, Lasso\n",
        "from sklearn.preprocessing import PolynomialFeatures\n",
        "from sklearn.metrics import mean_squared_error, r2_score\n",
        "from sklearn.model_selection import train_test_split\n",
        "\n",
        "# Mount Google Drive to access files\n",
        "drive.mount('/content/drive')\n",
        "\n",
        "# Load the dataset from Google Drive\n",
        "file_path = '/content/drive/MyDrive/SEG Forecast/60-Site_DKA-M18_A-Phase.csv'\n",
        "df = pd.read_csv(file_path)\n",
        "\n",
        "# Select only the necessary columns\n",
        "df = df[['Active_Power', 'Global_Horizontal_Radiation', 'Weather_Temperature_Celsius',\n",
        "         'Weather_Relative_Humidity', 'Diffuse_Horizontal_Radiation', 'Wind_Speed',\n",
        "         'Performance_Ratio']]\n",
        "\n",
        "# Convert the relevant columns to numeric (if not already)\n",
        "numeric_columns = ['Active_Power', 'Global_Horizontal_Radiation', 'Weather_Temperature_Celsius',\n",
        "                   'Weather_Relative_Humidity', 'Diffuse_Horizontal_Radiation', 'Wind_Speed',\n",
        "                   'Performance_Ratio']\n",
        "\n",
        "df[numeric_columns] = df[numeric_columns].apply(pd.to_numeric, errors='coerce')\n",
        "\n",
        "# Handle missing values by filling them with the mean of the column\n",
        "df.fillna(df.mean(), inplace=True)\n",
        "\n",
        "# Define features (X) and target (y) for Linear Regression\n",
        "X = df[['Global_Horizontal_Radiation', 'Weather_Temperature_Celsius',\n",
        "        'Diffuse_Horizontal_Radiation', 'Wind_Speed']]\n",
        "y = df['Active_Power']\n",
        "\n",
        "# Split the data into training and testing sets\n",
        "X_train, X_test, y_train, y_test = train_test_split(X, y, test_size=0.2, random_state=42)\n",
        "\n",
        "# Polynomial Features Transformation\n",
        "poly = PolynomialFeatures(degree=2, include_bias=False)\n",
        "X_train_poly = poly.fit_transform(X_train)\n",
        "X_test_poly = poly.transform(X_test)\n",
        "\n",
        "# Initialize Linear Regression model\n",
        "model = LinearRegression()\n",
        "model.fit(X_train_poly, y_train)\n",
        "y_pred = model.predict(X_test_poly)\n",
        "\n",
        "# Calculate and display model performance\n",
        "mse = mean_squared_error(y_test, y_pred)\n",
        "r2 = r2_score(y_test, y_pred)\n",
        "\n",
        "print(f\"Polynomial Linear Regression Model (Degree 2)\")\n",
        "print(f\"Mean Squared Error: {mse}\")\n",
        "print(f\"R-squared: {r2}\")\n",
        "\n",
        "# Regularization (Ridge Regression)\n",
        "ridge_model = Ridge(alpha=1.0)\n",
        "ridge_model.fit(X_train_poly, y_train)\n",
        "y_pred_ridge = ridge_model.predict(X_test_poly)\n",
        "\n",
        "# Calculate and display Ridge Regression model performance\n",
        "mse_ridge = mean_squared_error(y_test, y_pred_ridge)\n",
        "r2_ridge = r2_score(y_test, y_pred_ridge)\n",
        "\n",
        "print(f\"\\nRidge Regression Model\")\n",
        "print(f\"Mean Squared Error: {mse_ridge}\")\n",
        "print(f\"R-squared: {r2_ridge}\")\n",
        "\n",
        "# Regularization (Lasso Regression)\n",
        "lasso_model = Lasso(alpha=0.1)\n",
        "lasso_model.fit(X_train_poly, y_train)\n",
        "y_pred_lasso = lasso_model.predict(X_test_poly)\n",
        "\n",
        "# Calculate and display Lasso Regression model performance\n",
        "mse_lasso = mean_squared_error(y_test, y_pred_lasso)\n",
        "r2_lasso = r2_score(y_test, y_pred_lasso)\n",
        "\n",
        "print(f\"\\nLasso Regression Model\")\n",
        "print(f\"Mean Squared Error: {mse_lasso}\")\n",
        "print(f\"R-squared: {r2_lasso}\")\n"
      ],
      "metadata": {
        "colab": {
          "base_uri": "https://localhost:8080/"
        },
        "id": "kRNrS_JnpbQZ",
        "outputId": "7269d3a4-8d15-4f01-da95-086e5e529635"
      },
      "execution_count": null,
      "outputs": [
        {
          "output_type": "stream",
          "name": "stdout",
          "text": [
            "Drive already mounted at /content/drive; to attempt to forcibly remount, call drive.mount(\"/content/drive\", force_remount=True).\n",
            "Polynomial Linear Regression Model (Degree 2)\n",
            "Mean Squared Error: 1.095368277443133\n",
            "R-squared: 0.5062357430003382\n",
            "\n",
            "Ridge Regression Model\n",
            "Mean Squared Error: 1.0953682760926542\n",
            "R-squared: 0.5062357436090998\n",
            "\n",
            "Lasso Regression Model\n",
            "Mean Squared Error: 1.0969131857612286\n",
            "R-squared: 0.5055393374867536\n"
          ]
        }
      ]
    },
    {
      "cell_type": "code",
      "source": [
        "from sklearn.metrics import mean_squared_error, r2_score, mean_absolute_error\n",
        "# Calculate and display Lasso Regression model performance\n",
        "\n",
        "rmse_lasso = np.sqrt(mse_lasso)\n",
        "mae_lasso = mean_absolute_error(y_test, y_pred_lasso)\n",
        "\n",
        "\n",
        "\n",
        "print(f\"Root Mean Squared Error (RMSE): {rmse_lasso}\")\n",
        "print(f\"Mean Absolute Error (MAE): {mae_lasso}\")"
      ],
      "metadata": {
        "colab": {
          "base_uri": "https://localhost:8080/"
        },
        "id": "wSNW3Tl4r16O",
        "outputId": "faa71208-66cd-465b-b1fa-53b5c022cbe6"
      },
      "execution_count": null,
      "outputs": [
        {
          "output_type": "stream",
          "name": "stdout",
          "text": [
            "Root Mean Squared Error (RMSE): 1.0473362333850713\n",
            "Mean Absolute Error (MAE): 0.6217259788830042\n"
          ]
        }
      ]
    },
    {
      "cell_type": "code",
      "source": [
        "import matplotlib.pyplot as plt\n",
        "import seaborn as sns\n",
        "import numpy as np\n",
        "import pandas as pd\n",
        "\n",
        "# Data from the table\n",
        "metrics = ['MSE', 'RMSE', 'MBE', 'R-squared']\n",
        "pearson = [1.096, 1.0473, 0.6217, 0.5055]\n",
        "rfe = [1.0987, 1.0481, 0.6209, 0.5047]\n",
        "rffi = [1.0694, 1.0341, 0.6128, 0.5179]\n",
        "\n",
        "# Create a DataFrame for easier plotting with seaborn\n",
        "data = {\n",
        "    'Metric': metrics * 3,\n",
        "    'Score': pearson + rfe + rffi,\n",
        "    'Technique': ['Pearson'] * 4 + ['RFE'] * 4 + ['RFFI'] * 4\n",
        "}\n",
        "df = pd.DataFrame(data)\n",
        "\n",
        "# Set the style and color palette\n",
        "sns.set(style=\"whitegrid\")\n",
        "palette = sns.color_palette(\"Paired\")\n",
        "\n",
        "# Create the bar plot\n",
        "plt.figure(figsize=(10, 6))\n",
        "bar_plot = sns.barplot(x='Metric', y='Score', hue='Technique', data=df, palette=palette)\n",
        "\n",
        "# Add title and labels\n",
        "plt.title('Performance Metrics by Feature Selection Technique', fontsize=16)\n",
        "plt.xlabel('Metrics', fontsize=14)\n",
        "plt.ylabel('Scores', fontsize=14)\n",
        "\n",
        "# Customize the legend\n",
        "plt.legend(title='Technique', title_fontsize='13', fontsize='11')\n",
        "\n",
        "# Show the plot\n",
        "plt.tight_layout()\n",
        "plt.show()\n"
      ],
      "metadata": {
        "colab": {
          "base_uri": "https://localhost:8080/",
          "height": 636
        },
        "id": "mN0akBEUyuU9",
        "outputId": "91bd75ab-dce1-475f-ec9b-8486ba7e8677"
      },
      "execution_count": null,
      "outputs": [
        {
          "output_type": "stream",
          "name": "stderr",
          "text": [
            "<ipython-input-13-53134ff525c6>:26: UserWarning: The palette list has more values (12) than needed (3), which may not be intended.\n",
            "  bar_plot = sns.barplot(x='Metric', y='Score', hue='Technique', data=df, palette=palette)\n"
          ]
        },
        {
          "output_type": "display_data",
          "data": {
            "text/plain": [
              "<Figure size 1000x600 with 1 Axes>"
            ],
            "image/png": "[encoded data removed]"
          },
          "metadata": {}
        }
      ]
    },
    {
      "cell_type": "code",
      "source": [
        "import matplotlib.pyplot as plt\n",
        "import seaborn as sns\n",
        "import numpy as np\n",
        "import pandas as pd\n",
        "\n",
        "# Data from the table\n",
        "metrics = ['MSE', 'RMSE', 'MAE', 'R-squared']\n",
        "pearson = [0.7613, 0.8725, 0.4200, 0.6598]\n",
        "rfe = [0.7089, 0.8419, 0.4038, 0.6832]\n",
        "rffi = [0.1978, 0.4447, 0.1286, 0.9116]\n",
        "\n",
        "# Create a DataFrame for easier plotting with seaborn\n",
        "data = {\n",
        "    'Metric': metrics * 3,\n",
        "    'Score': pearson + rfe + rffi,\n",
        "    'Technique': ['Pearson'] * 4 + ['RFE'] * 4 + ['RFFI'] * 4\n",
        "}\n",
        "df = pd.DataFrame(data)\n",
        "\n",
        "# Set the style and color palette\n",
        "sns.set(style=\"whitegrid\")\n",
        "palette = sns.color_palette(\"Paired\")\n",
        "\n",
        "# Create the bar plot\n",
        "plt.figure(figsize=(10, 6))\n",
        "bar_plot = sns.barplot(x='Metric', y='Score', hue='Technique', data=df, palette=palette)\n",
        "\n",
        "# Add title and labels\n",
        "plt.title('Performance Metrics by Feature Selection Technique', fontsize=16)\n",
        "plt.xlabel('Metrics', fontsize=14)\n",
        "plt.ylabel('Scores', fontsize=14)\n",
        "\n",
        "# Customize the legend\n",
        "plt.legend(title='Technique', title_fontsize='13', fontsize='11')\n",
        "\n",
        "# Show the plot\n",
        "plt.tight_layout()\n",
        "plt.show()\n"
      ],
      "metadata": {
        "colab": {
          "base_uri": "https://localhost:8080/",
          "height": 636
        },
        "id": "MgjEpXCg6ujT",
        "outputId": "baee7bae-bc7e-461e-a4b8-a58f9b40078c"
      },
      "execution_count": null,
      "outputs": [
        {
          "output_type": "stream",
          "name": "stderr",
          "text": [
            "<ipython-input-2-acffc9c50307>:26: UserWarning: The palette list has more values (12) than needed (3), which may not be intended.\n",
            "  bar_plot = sns.barplot(x='Metric', y='Score', hue='Technique', data=df, palette=palette)\n"
          ]
        },
        {
          "output_type": "display_data",
          "data": {
            "text/plain": [
              "<Figure size 1000x600 with 1 Axes>"
            ],
            "image/png": "[encoded data removed]"
          },
          "metadata": {}
        }
      ]
    },
    {
      "cell_type": "code",
      "source": [
        "import numpy as np\n",
        "import pandas as pd\n",
        "from sklearn.model_selection import train_test_split\n",
        "from sklearn.neural_network import MLPRegressor\n",
        "from sklearn.metrics import mean_squared_error, r2_score, mean_absolute_error\n",
        "from sklearn.preprocessing import StandardScaler\n",
        "from sklearn.impute import SimpleImputer\n",
        "\n",
        "# Load your dataset\n",
        "data = pd.read_csv('/content/drive/MyDrive/SEG Forecast/60-Site_DKA-M18_A-Phase.csv')  # Replace with your actual file path\n",
        "\n",
        "# Impute missing values for both features and the target variable\n",
        "imputer = SimpleImputer(strategy='median')\n",
        "\n",
        "# Selecting features and target before imputation\n",
        "features = data[['Global_Horizontal_Radiation', 'Weather_Temperature_Celsius',\n",
        "        'Diffuse_Horizontal_Radiation', 'Wind_Speed']]\n",
        "target = data['Active_Power']\n",
        "\n",
        "# Applying imputation\n",
        "features_imputed = imputer.fit_transform(features)\n",
        "target_imputed = imputer.fit_transform(target.values.reshape(-1,1)).ravel()\n",
        "\n",
        "# Splitting the dataset into training and testing sets\n",
        "X_train, X_test, y_train, y_test = train_test_split(features_imputed, target_imputed, test_size=0.3, random_state=42)\n",
        "\n",
        "# Feature scaling\n",
        "scaler = StandardScaler()\n",
        "X_train_scaled = scaler.fit_transform(X_train)\n",
        "X_test_scaled = scaler.transform(X_test)\n",
        "\n",
        "# Model building\n",
        "mlp_model = MLPRegressor(hidden_layer_sizes=(100,), max_iter=1000, random_state=42)  # Adjust hidden_layer_sizes and other parameters as needed\n",
        "mlp_model.fit(X_train_scaled, y_train)\n",
        "\n",
        "# Predicting the test results\n",
        "y_pred = mlp_model.predict(X_test_scaled)\n",
        "\n",
        "# Model evaluation\n",
        "mse = mean_squared_error(y_test, y_pred)\n",
        "rmse = np.sqrt(mse)\n",
        "r2 = r2_score(y_test, y_pred)\n",
        "mae = mean_absolute_error(y_test, y_pred)\n",
        "epsilon = 1e-8  # Small number to prevent division by zero\n",
        "mape = np.mean(np.abs((y_test - y_pred) / (y_test + epsilon))) * 100  # Modified MAPE calculation\n",
        "\n",
        "print(f'Mean Squared Error: {mse}')\n",
        "print(f'Root Mean Squared Error: {rmse}')\n",
        "print(f'R-Squared: {r2}')\n",
        "print(f'Mean Absolute Error: {mae}')\n",
        "print(f'Mean Absolute Percentage Error: {mape:.2f}%')\n"
      ],
      "metadata": {
        "id": "aBlJe01efI6Z",
        "colab": {
          "base_uri": "https://localhost:8080/"
        },
        "outputId": "995e1409-885d-4818-8251-c1d95499f51f"
      },
      "execution_count": null,
      "outputs": [
        {
          "output_type": "stream",
          "name": "stdout",
          "text": [
            "Mean Squared Error: 0.8512744541539795\n",
            "Root Mean Squared Error: 0.9226453566533457\n",
            "R-Squared: 0.6196448902115015\n",
            "Mean Absolute Error: 0.5061154432096417\n",
            "Mean Absolute Percentage Error: 980842400.10%\n"
          ]
        }
      ]
    }
  ]
}