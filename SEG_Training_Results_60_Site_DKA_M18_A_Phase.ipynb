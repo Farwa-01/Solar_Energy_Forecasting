{
  "nbformat": 4,
  "nbformat_minor": 0,
  "metadata": {
    "colab": {
      "provenance": [],
      "mount_file_id": "1p58MuHno21WFRGNmccTkJD8Jzqk5e62D",
      "authorship_tag": "ABX9TyP8GhVlTidZdeSkCvMyFdxP",
      "include_colab_link": true
    },
    "kernelspec": {
      "name": "python3",
      "display_name": "Python 3"
    },
    "language_info": {
      "name": "python"
    }
  },
  "cells": [
    {
      "cell_type": "markdown",
      "metadata": {
        "id": "view-in-github",
        "colab_type": "text"
      },
      "source": [
        "<a href=\"https://colab.research.google.com/github/Farwa-01/Solar_Energy_Forecasting/blob/main/SEG_Training_Results_60_Site_DKA_M18_A_Phase.ipynb\" target=\"_parent\"><img src=\"https://colab.research.google.com/assets/colab-badge.svg\" alt=\"Open In Colab\"/></a>"
      ]
    },
    {
      "cell_type": "code",
      "source": [
        "# Importing necessary libraries\n",
        "import pandas as pd\n",
        "from sklearn.model_selection import train_test_split\n",
        "from sklearn.preprocessing import StandardScaler\n",
        "from sklearn.svm import SVR\n",
        "from sklearn.metrics import mean_squared_error, mean_absolute_percentage_error\n",
        "# Mount Google Drive\n",
        "from google.colab import drive\n",
        "drive.mount('/content/drive')"
      ],
      "metadata": {
        "colab": {
          "base_uri": "https://localhost:8080/"
        },
        "id": "_3W1x1mGyJ8d",
        "outputId": "8e62c951-c786-4fdc-e9ce-0272f9c40e0f"
      },
      "execution_count": null,
      "outputs": [
        {
          "output_type": "stream",
          "name": "stdout",
          "text": [
            "Mounted at /content/drive\n"
          ]
        }
      ]
    },
    {
      "cell_type": "code",
      "execution_count": null,
      "metadata": {
        "colab": {
          "base_uri": "https://localhost:8080/"
        },
        "id": "TdUW9uuPx-eD",
        "outputId": "89bc898d-b0e0-4de7-aedb-19dc3aa23fe7"
      },
      "outputs": [
        {
          "output_type": "stream",
          "name": "stdout",
          "text": [
            "Drive already mounted at /content/drive; to attempt to forcibly remount, call drive.mount(\"/content/drive\", force_remount=True).\n",
            "Support Vector Regression Model\n",
            "Training Time: 21.60585355758667\n",
            "Mean Squared Error: 0.002470649118484704\n",
            "Mean Absolute Error: 0.035199825698904154\n",
            "R-squared: 0.9992420880772452\n",
            "Median Absolute Error: 0.03184312146652757\n",
            "Explained Variance Score: 0.9992709451991579\n",
            "Mean Absolute Percentage Error: 178565447.70068735\n",
            "Huber Loss: 0.0010401150825507621\n"
          ]
        },
        {
          "output_type": "stream",
          "name": "stderr",
          "text": [
            "/usr/local/lib/python3.10/dist-packages/sklearn/linear_model/_huber.py:342: ConvergenceWarning: lbfgs failed to converge (status=1):\n",
            "STOP: TOTAL NO. of ITERATIONS REACHED LIMIT.\n",
            "\n",
            "Increase the number of iterations (max_iter) or scale the data as shown in:\n",
            "    https://scikit-learn.org/stable/modules/preprocessing.html\n",
            "  self.n_iter_ = _check_optimize_result(\"lbfgs\", opt_res, self.max_iter)\n"
          ]
        }
      ],
      "source": [
        "# Importing necessary libraries\n",
        "from google.colab import drive\n",
        "import numpy as np\n",
        "import pandas as pd\n",
        "from sklearn.model_selection import train_test_split\n",
        "from sklearn.svm import SVR\n",
        "from sklearn.metrics import mean_squared_error, r2_score, mean_absolute_error, median_absolute_error, explained_variance_score\n",
        "from sklearn.preprocessing import StandardScaler\n",
        "import time\n",
        "\n",
        "# Mount Google Drive\n",
        "drive.mount('/content/drive')\n",
        "\n",
        "# Load the dataset\n",
        "url = \"/content/drive/MyDrive/SEG Forecast/60-Site_DKA-M18_A-Phase.csv\"\n",
        "df = pd.read_csv(url)\n",
        "\n",
        "# Drop rows with missing values\n",
        "df.dropna(inplace=True)\n",
        "\n",
        "# Preprocessing\n",
        "X = df.drop(columns=[\"timestamp\", \"Active_Power\"])  # Drop non-numeric and target columns\n",
        "X = pd.get_dummies(X)  # Perform one-hot encoding for categorical variables if necessary\n",
        "y = df[\"Active_Power\"]  # Target variable\n",
        "\n",
        "# Split the dataset into train and test sets\n",
        "X_train, X_test, y_train, y_test = train_test_split(X, y, test_size=0.2, random_state=42)\n",
        "\n",
        "# Data preprocessing\n",
        "scaler = StandardScaler()\n",
        "X_train_scaled = scaler.fit_transform(X_train)\n",
        "X_test_scaled = scaler.transform(X_test)\n",
        "\n",
        "# Initialize and train the SVM regressor\n",
        "svm_regressor = SVR(kernel='rbf', C=5.0, epsilon=0.1)  # You can adjust hyperparameters here\n",
        "\n",
        "# Measure training time\n",
        "start_time = time.time()\n",
        "svm_regressor.fit(X_train_scaled, y_train)\n",
        "end_time = time.time()\n",
        "training_time = end_time - start_time\n",
        "\n",
        "# Predictions on the test set\n",
        "y_pred = svm_regressor.predict(X_test_scaled)\n",
        "\n",
        "# Evaluation\n",
        "mse = mean_squared_error(y_test, y_pred)\n",
        "mae = mean_absolute_error(y_test, y_pred)\n",
        "r2 = r2_score(y_test, y_pred)\n",
        "medae = median_absolute_error(y_test, y_pred)\n",
        "evs = explained_variance_score(y_test, y_pred)\n",
        "epsilon = 1e-8  # Small number to prevent division by zero\n",
        "mape = np.mean(np.abs((y_test - y_pred) / (y_test + epsilon))) * 100  # Modified MAPE calculation\n",
        "\n",
        "# Calculate Huber Loss using Huber Regressor\n",
        "from sklearn.linear_model import HuberRegressor\n",
        "\n",
        "huber_model = HuberRegressor()\n",
        "huber_model.fit(X_train_scaled, y_train)\n",
        "y_pred_huber = huber_model.predict(X_test_scaled)\n",
        "\n",
        "def huber_loss(y_true, y_pred, delta=1.0):\n",
        "    error = y_true - y_pred\n",
        "    is_small_error = np.abs(error) <= delta\n",
        "    squared_loss = np.square(error) / 2\n",
        "    linear_loss = delta * (np.abs(error) - delta / 2)\n",
        "    return np.where(is_small_error, squared_loss, linear_loss).mean()\n",
        "\n",
        "huber_loss_value = huber_loss(y_test, y_pred_huber)\n",
        "\n",
        "print(\"Support Vector Regression Model\")\n",
        "print(\"Training Time:\", training_time)\n",
        "print(\"Mean Squared Error:\", mse)\n",
        "print(\"Mean Absolute Error:\", mae)\n",
        "print(\"R-squared:\", r2)\n",
        "print(\"Median Absolute Error:\", medae)\n",
        "print(\"Explained Variance Score:\", evs)\n",
        "print(\"Mean Absolute Percentage Error:\", mape)\n",
        "print(\"Huber Loss:\", huber_loss_value)\n"
      ]
    },
    {
      "cell_type": "code",
      "source": [
        "from sklearn.metrics import mean_squared_error, mean_absolute_percentage_error, r2_score\n",
        "\n",
        "rmse = mean_squared_error(y_test, y_pred, squared=False)  # Calculate RMSE\n",
        "r_squared = r2_score(y_test, y_pred)  # Calculate R-squared\n",
        "\n",
        "print(\"Mean Squared Error:\", mse)\n",
        "print(\"Mean Absolute Percentage Error:\", mape)\n",
        "print(\"Root Mean Squared Error:\", rmse)\n",
        "print(\"R-squared:\", r_squared)"
      ],
      "metadata": {
        "colab": {
          "base_uri": "https://localhost:8080/"
        },
        "id": "MDfIkHooyIu3",
        "outputId": "b58756ca-fbc5-498e-c731-d16211de3f29"
      },
      "execution_count": null,
      "outputs": [
        {
          "output_type": "stream",
          "name": "stdout",
          "text": [
            "Mean Squared Error: 0.002470649118484704\n",
            "Mean Absolute Percentage Error: 80411484717597.94\n",
            "Root Mean Squared Error: 0.049705624616181054\n",
            "R-squared: 0.9992420880772452\n"
          ]
        }
      ]
    }
  ]
}