{
  "nbformat": 4,
  "nbformat_minor": 0,
  "metadata": {
    "colab": {
      "provenance": [],
      "mount_file_id": "1akxaXETsAl-nzieDK30cMKw7FE2WwbW1",
      "authorship_tag": "ABX9TyPMIh0wGf5MJcb/mWqrQ757",
      "include_colab_link": true
    },
    "kernelspec": {
      "name": "python3",
      "display_name": "Python 3"
    },
    "language_info": {
      "name": "python"
    }
  },
  "cells": [
    {
      "cell_type": "markdown",
      "metadata": {
        "id": "view-in-github",
        "colab_type": "text"
      },
      "source": [
        "<a href=\"https://colab.research.google.com/github/Farwa-01/Solar_Energy_Forecasting/blob/main/Feature_selection_by_PC.ipynb\" target=\"_parent\"><img src=\"https://colab.research.google.com/assets/colab-badge.svg\" alt=\"Open In Colab\"/></a>"
      ]
    },
    {
      "cell_type": "code",
      "source": [
        "import pandas as pd\n",
        "import numpy as np\n",
        "\n",
        "# Read the dataset\n",
        "data = pd.read_csv(\"/content/drive/MyDrive/SEG Forecast/60-Site_DKA-M18_A-Phase.csv\")\n",
        "\n",
        "# Drop the timestamp column\n",
        "data = data.drop(\"timestamp\", axis=1)\n",
        "\n",
        "# Handle missing values for numeric columns\n",
        "numeric_cols = data.select_dtypes(include=np.number).columns\n",
        "data[numeric_cols] = data[numeric_cols].fillna(data[numeric_cols].mean())\n",
        "\n",
        "# Calculate correlation coefficients of all features with target variable\n",
        "correlations = data.corr()['Active_Power'].drop('Active_Power')\n",
        "\n",
        "# Print correlation values of all features\n",
        "print(\"\\nCorrelation with Active_Power:\")\n",
        "print(correlations)\n",
        "\n",
        "# Print top 4 features with highest absolute correlation values\n",
        "top_4_features = correlations.abs().nlargest(4)\n",
        "print(\"\\nTop 4 Features:\")\n",
        "print(top_4_features)\n"
      ],
      "metadata": {
        "colab": {
          "base_uri": "https://localhost:8080/"
        },
        "id": "24CHePXnXrUJ",
        "outputId": "24dbc4af-5e7f-4c12-c3c6-c9bb798714a8"
      },
      "execution_count": null,
      "outputs": [
        {
          "output_type": "stream",
          "name": "stdout",
          "text": [
            "\n",
            "Correlation with Active_Power:\n",
            "Active_Energy_Delivered_Received   -0.187962\n",
            "Current_Phase_Average               0.999355\n",
            "Performance_Ratio                   0.102860\n",
            "Wind_Speed                          0.148322\n",
            "Weather_Temperature_Celsius         0.331952\n",
            "Weather_Relative_Humidity          -0.322321\n",
            "Global_Horizontal_Radiation         0.699972\n",
            "Diffuse_Horizontal_Radiation        0.391167\n",
            "Wind_Direction                      0.057905\n",
            "Weather_Daily_Rainfall             -0.041285\n",
            "Radiation_Global_Tilted             0.631520\n",
            "Radiation_Diffuse_Tilted            0.167494\n",
            "Name: Active_Power, dtype: float64\n",
            "\n",
            "Top 4 Features:\n",
            "Current_Phase_Average           0.999355\n",
            "Global_Horizontal_Radiation     0.699972\n",
            "Radiation_Global_Tilted         0.631520\n",
            "Diffuse_Horizontal_Radiation    0.391167\n",
            "Name: Active_Power, dtype: float64\n"
          ]
        }
      ]
    }
  ]
}